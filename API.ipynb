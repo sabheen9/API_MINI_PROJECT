{
 "cells": [
  {
   "attachments": {},
   "cell_type": "markdown",
   "metadata": {},
   "source": [
    "## **API PROJECT** (EXTRACTING DATA FROM NASDAQ API)\n",
    "\n",
    "**For this mini project, we will focus on equities data from the Frankfurt Stock Exhange (FSE), which is available for free. We'll try and analyze the stock prices of a company called Carl Zeiss Meditec, which manufactures tools for eye examinations, as well as medical lasers for laser eye surgery: https://www.zeiss.com/meditec/int/home.html. The company is listed under the stock ticker AFX_X.**\n",
    "\n",
    "**You can find the detailed Nasdaq Data API instructions here: https://docs.data.nasdaq.com/docs/in-depth-usage**\n",
    "\n",
    "**OBJECTIVES:**\n",
    "\n",
    "These are your tasks for this mini project:\n",
    "\n",
    "**1)** Collect data from the Franfurt Stock Exchange, for the ticker AFX_X, for the whole year 2017 (keep in mind that the date format is YYYY-MM-DD).\n",
    "\n",
    "**2)** Convert the returned JSON object into a Python dictionary.\n",
    "\n",
    "**3)** Calculate what the highest and lowest opening prices were for the stock in this period.\n",
    "\n",
    "**4)** What was the largest change in any one day (based on High and Low price)?\n",
    "\n",
    "**5)** What was the largest change between any two days (based on Closing Price)?\n",
    "\n",
    "**6)** What was the average daily trading volume during this year?\n",
    "\n",
    "**7)** (Optional) What was the median trading volume during this year. (Note: you may need to implement your own function for calculating the median.)"
   ]
  },
  {
   "attachments": {},
   "cell_type": "markdown",
   "metadata": {},
   "source": [
    "#### **IMPORTING LIABRARIES**"
   ]
  },
  {
   "cell_type": "code",
   "execution_count": null,
   "metadata": {},
   "outputs": [],
   "source": [
    "import os\n",
    "from dotenv import load_dotenv\n",
    "import requests\n",
    "import json"
   ]
  },
  {
   "attachments": {},
   "cell_type": "markdown",
   "metadata": {},
   "source": [
    "### **READING API KEY**"
   ]
  },
  {
   "attachments": {},
   "cell_type": "markdown",
   "metadata": {},
   "source": [
    "1) you will need to register a free account on the **https://data.nasdaq.com/** website.\n",
    "\n",
    "2) After you register, you will be provided with a unique API key, that you should store in a **.env** file. Remember .env file means that it is the name of the file not the extension.The extension can be **.txt**\n",
    "\n",
    "3) Make sure you also have a .gitignore file with a line for .env added to it.\n",
    "\n",
    "4) https://bobbyhadz.com/blog/python-no-module-named-dotenv .This website can be helpful\n"
   ]
  },
  {
   "cell_type": "code",
   "execution_count": 11,
   "metadata": {},
   "outputs": [
    {
     "name": "stdout",
     "output_type": "stream",
     "text": [
      "TkrECr1NVvVC2C5nEMBT\n"
     ]
    }
   ],
   "source": [
    "path='C:\\Python\\API_MINI_PROJECT\\.env.txt'\n",
    "\n",
    "load_dotenv(dotenv_path=path,verbose=True)\n",
    "API_KEY = os.getenv('NASDAQ_API_KEY')\n",
    "\n",
    "print(API_KEY)"
   ]
  },
  {
   "attachments": {},
   "cell_type": "markdown",
   "metadata": {},
   "source": [
    "### **CONNECTING AND LOADING DATA FROM AN API**"
   ]
  },
  {
   "cell_type": "code",
   "execution_count": 12,
   "metadata": {},
   "outputs": [
    {
     "data": {
      "text/plain": [
       "{'dataset': {'id': 10095370,\n",
       "  'dataset_code': 'AFX_X',\n",
       "  'database_code': 'FSE',\n",
       "  'name': 'Carl Zeiss Meditec (AFX_X)',\n",
       "  'description': 'Stock Prices for Carl Zeiss Meditec (2020-11-02) from the Frankfurt Stock Exchange.<br><br>Trading System: Xetra<br><br>ISIN: DE0005313704',\n",
       "  'refreshed_at': '2020-12-01T14:48:09.907Z',\n",
       "  'newest_available_date': '2020-12-01',\n",
       "  'oldest_available_date': '2000-06-07',\n",
       "  'column_names': ['Date',\n",
       "   'Open',\n",
       "   'High',\n",
       "   'Low',\n",
       "   'Close',\n",
       "   'Change',\n",
       "   'Traded Volume',\n",
       "   'Turnover',\n",
       "   'Last Price of the Day',\n",
       "   'Daily Traded Units',\n",
       "   'Daily Turnover'],\n",
       "  'frequency': 'daily',\n",
       "  'type': 'Time Series',\n",
       "  'premium': False,\n",
       "  'limit': None,\n",
       "  'transform': None,\n",
       "  'column_index': None,\n",
       "  'start_date': '2020-04-01',\n",
       "  'end_date': '2020-04-01',\n",
       "  'data': [['2020-04-01',\n",
       "    86.5,\n",
       "    86.9,\n",
       "    85.0,\n",
       "    86.1,\n",
       "    None,\n",
       "    192187.0,\n",
       "    16541381.35,\n",
       "    None,\n",
       "    None,\n",
       "    None]],\n",
       "  'collapse': None,\n",
       "  'order': None,\n",
       "  'database_id': 6129}}"
      ]
     },
     "execution_count": 12,
     "metadata": {},
     "output_type": "execute_result"
    }
   ],
   "source": [
    "url='https://data.nasdaq.com/api/v3/datasets/FSE/AFX_X.json?&start_date=2020-04-01&end_date=2020-04-01&api_key='+API_KEY\n",
    "\n",
    "r=requests.get(url)\n",
    "json_data=r.json()\n",
    "json_data\n",
    "\n"
   ]
  },
  {
   "attachments": {},
   "cell_type": "markdown",
   "metadata": {},
   "source": []
  }
 ],
 "metadata": {
  "kernelspec": {
   "display_name": "base",
   "language": "python",
   "name": "python3"
  },
  "language_info": {
   "codemirror_mode": {
    "name": "ipython",
    "version": 3
   },
   "file_extension": ".py",
   "mimetype": "text/x-python",
   "name": "python",
   "nbconvert_exporter": "python",
   "pygments_lexer": "ipython3",
   "version": "3.10.9"
  },
  "orig_nbformat": 4
 },
 "nbformat": 4,
 "nbformat_minor": 2
}
